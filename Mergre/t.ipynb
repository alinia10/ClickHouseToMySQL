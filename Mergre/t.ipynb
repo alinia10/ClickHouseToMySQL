{
 "cells": [
  {
   "cell_type": "markdown",
   "id": "ae2c9104",
   "metadata": {},
   "source": [
    "# Get Merge And View of MYSQL Database from ClickHouse Database\n",
    "## Contents\n",
    "1. [Introduction](#Introduction)\n",
    "2. [Prerequisites](#Prerequisites)\n",
    "3. [MySQL Database Operations](#MySQL-Database-Operations)\n",
    "4. [ClickHouse Database Operations](#ClickHouse-Database-Operations)\n",
    "5. [Comparison](#Comparison)"
   ]
  },
  {
   "cell_type": "markdown",
   "id": "d49ac5bc",
   "metadata": {},
   "source": [
    "## Introduction\n",
    "In this notebook, we will see how to get a View and Copy MySQL database from a ClickHouse database, create a MySQL database and a ClickHouse database, create a table in MySQL and two table in ClickHouse. \n",
    "\n",
    "Finally, we compare the data of the MySQL and ClickHouse view and copyied."
   ]
  },
  {
   "cell_type": "markdown",
   "id": "28077de5",
   "metadata": {},
   "source": [
    "## Prerequisites\n",
    "- ClickHouse Server\n",
    "- MySQL Server\n",
    "- MySQL Client\n",
    "- ClickHouse Client\n",
    "\n",
    "##### Note:\n",
    "- follow the instructions in `README.md` to install the prerequisites."
   ]
  },
  {
   "cell_type": "markdown",
   "id": "8b4b394b",
   "metadata": {},
   "source": [
    "### MySQL Database Operations\n",
    "\n",
    "This part demonstrates operations related to MySQL databases, including creating a database, creating a table, and inserting data."
   ]
  },
  {
   "cell_type": "code",
   "execution_count": 1,
   "id": "40c0074f",
   "metadata": {},
   "outputs": [],
   "source": [
    "# Import necessary libraries\n",
    "import mysql.connector\n",
    "import time\n",
    "from conf import *"
   ]
  },
  {
   "cell_type": "markdown",
   "id": "c684acc8",
   "metadata": {},
   "source": [
    "#### Connect to MySQL Server\n",
    "Connects to the MySQL server using the provided credentials."
   ]
  },
  {
   "cell_type": "code",
   "execution_count": 2,
   "id": "6c2c7c0c",
   "metadata": {},
   "outputs": [],
   "source": [
    "# Connect to the MySQL server\n",
    "mydb = mysql.connector.connect(\n",
    "    host=MySQL_ip,\n",
    "    user=\"root\",\n",
    "    password=\"1381\",\n",
    "    database=\"\"\n",
    ")\n",
    "\n",
    "# Create a cursor object to execute SQL queries\n",
    "cursor = mydb.cursor()"
   ]
  },
  {
   "cell_type": "markdown",
   "id": "a694d7ae",
   "metadata": {},
   "source": [
    "#### Create Database Function\n",
    "Defines a function to create a new MySQL database or drop and recreate if it already exists."
   ]
  },
  {
   "cell_type": "code",
   "execution_count": 3,
   "id": "16ac1ed3",
   "metadata": {},
   "outputs": [],
   "source": [
    "# Function to create a database\n",
    "def create_database():\n",
    "    cursor.execute(f\"DROP DATABASE IF EXISTS {DATABASE_}\")\n",
    "    print(\"Database dropped\")\n",
    "    mydb.commit()\n",
    "    cursor.execute(f\"CREATE DATABASE IF NOT EXISTS {DATABASE_}\")\n",
    "    print(\"Database created\")\n",
    "    mydb.commit()"
   ]
  },
  {
   "cell_type": "markdown",
   "id": "cc0d7e5c",
   "metadata": {},
   "source": [
    "#### Create Table Function\n",
    "Defines a function to create a table within the specified database."
   ]
  },
  {
   "cell_type": "code",
   "execution_count": 4,
   "id": "6ad869b8",
   "metadata": {},
   "outputs": [],
   "source": [
    "# Function to create a table\n",
    "def create_table():\n",
    "    cursor.execute(f\"USE {DATABASE_}\")\n",
    "    cursor.execute(f\"CREATE TABLE IF NOT EXISTS {TABLE_} (\\\n",
    "        `id` INT AUTO_INCREMENT PRIMARY KEY,\\\n",
    "        `name` VARCHAR(255),\\\n",
    "        `address` VARCHAR(255),\\\n",
    "        `email` VARCHAR(255),\\\n",
    "        `phone_number` VARCHAR(30),\\\n",
    "        `job` VARCHAR(255),\\\n",
    "        `company` VARCHAR(255),\\\n",
    "        `city` VARCHAR(255),\\\n",
    "        `country` VARCHAR(255),\\\n",
    "        `date` VARCHAR(255)\\\n",
    "    );\")"
   ]
  },
  {
   "cell_type": "markdown",
   "id": "c6773e8a",
   "metadata": {},
   "source": [
    "#### Insert Data Real-time Function\n",
    "Defines a function to insert data into the MySQL table in real-time."
   ]
  },
  {
   "cell_type": "code",
   "execution_count": 5,
   "id": "6c8b8c06",
   "metadata": {},
   "outputs": [],
   "source": [
    "# Function to insert data in real-time\n",
    "def insert_data_real_time():\n",
    "    with open('../mysql_data_directory/fake_data.csv', 'r') as file:\n",
    "        next(file)  # Skip the first row\n",
    "\n",
    "        for line in file:\n",
    "            line = line.split(',')\n",
    "            name = line[0]\n",
    "            address = line[1]\n",
    "            email = line[2]\n",
    "            phone_number = line[3]\n",
    "            job = line[4]\n",
    "            company = line[5]\n",
    "            city = line[6]\n",
    "            country = line[7]\n",
    "            date = line[8]\n",
    "            sql = f\"INSERT INTO {TABLE_} (name, address, email, phone_number, job, company, city, country, date) VALUES (%s, %s, %s, %s, %s, %s, %s, %s, %s)\"\n",
    "            val = (name, address, email, phone_number, job, company, city, country, date)\n",
    "            cursor.execute(sql, val)\n",
    "        mydb.commit()"
   ]
  },
  {
   "cell_type": "markdown",
   "id": "7b90859d",
   "metadata": {},
   "source": [
    "#### Insert Data from CSV Function\n",
    "Defines a function to insert data into the MySQL table from a CSV file."
   ]
  },
  {
   "cell_type": "code",
   "execution_count": 6,
   "id": "fdb68ac8",
   "metadata": {},
   "outputs": [],
   "source": [
    "# Function to insert data from CSV\n",
    "def insert_data_csv():\n",
    "    try:\n",
    "        query = f\"\"\"\n",
    "        LOAD DATA INFILE '/var/lib/mysql-files/fake_data.csv'\n",
    "        INTO TABLE {TABLE_}\n",
    "        FIELDS TERMINATED BY ','\n",
    "        ENCLOSED BY '\"'\n",
    "        LINES TERMINATED BY '\\n'\n",
    "        IGNORE 1 LINES\n",
    "        (name, address, email, phone_number, job, company, city, country, date);\n",
    "        \"\"\"\n",
    "        cursor.execute(query)\n",
    "        mydb.commit()\n",
    "        print(\"Data inserted from CSV successfully.\")\n",
    "    except mysql.connector.Error as err:\n",
    "        print(f\"An error occurred: {err}\")"
   ]
  },
  {
   "cell_type": "markdown",
   "id": "87865df2",
   "metadata": {},
   "source": [
    "#### Execute Database Operations\n",
    "Calls the defined functions to create a database, create a table, and insert data into the table in real-time."
   ]
  },
  {
   "cell_type": "markdown",
   "id": "991985b6",
   "metadata": {},
   "source": [
    "Ever time you run this cell, it will create a new database and table."
   ]
  },
  {
   "cell_type": "code",
   "execution_count": 7,
   "id": "ab65ae26",
   "metadata": {},
   "outputs": [
    {
     "name": "stdout",
     "output_type": "stream",
     "text": [
      "Database dropped\n",
      "Database created\n"
     ]
    }
   ],
   "source": [
    "# Call the functions to create database and table\n",
    "create_database()\n",
    "create_table()\n"
   ]
  },
  {
   "cell_type": "markdown",
   "id": "74b62c45",
   "metadata": {},
   "source": [
    "After creating the database and table, you can insert data into the table using the `Insert Data Real-time Function` or `Insert Data from CSV Function` functions.\n",
    "Belwo is the code to insert data from CSV file containing 2 Million records."
   ]
  },
  {
   "cell_type": "markdown",
   "id": "ab52e813",
   "metadata": {},
   "source": [
    "#### Insert Data from CSV\n",
    "You can run multiple times to insert more data."
   ]
  },
  {
   "cell_type": "code",
   "execution_count": 8,
   "id": "a669bb2d",
   "metadata": {},
   "outputs": [
    {
     "name": "stdout",
     "output_type": "stream",
     "text": [
      "Data inserted from CSV successfully.\n",
      "Data inserted from CSV successfully.\n",
      "Data inserted from CSV successfully.\n",
      "Data inserted from CSV successfully.\n",
      "Data inserted from CSV successfully.\n"
     ]
    }
   ],
   "source": [
    "for _ in range(5):\n",
    "    insert_data_csv()\n"
   ]
  },
  {
   "cell_type": "markdown",
   "id": "c69250fd",
   "metadata": {},
   "source": [
    "### ClickHouse Database Operations\n",
    "\n",
    "This part demonstrates operations related to ClickHouse databases, including creating a database, creating tables, and copying data from MySQL to ClickHouse."
   ]
  },
  {
   "cell_type": "code",
   "execution_count": 9,
   "id": "86597b42",
   "metadata": {},
   "outputs": [],
   "source": [
    "# Import necessary libraries\n",
    "from clickhouse_driver import Client"
   ]
  },
  {
   "cell_type": "markdown",
   "id": "74db4552",
   "metadata": {},
   "source": [
    "#### Connect to ClickHouse Server\n",
    "Connects to the ClickHouse server using the provided credentials."
   ]
  },
  {
   "cell_type": "code",
   "execution_count": 10,
   "id": "72899d40",
   "metadata": {},
   "outputs": [],
   "source": [
    "# Connect to ClickHouse server\n",
    "client = Client(\n",
    "    host=ClickHouse_ip,\n",
    "    port=9000,\n",
    ")\n"
   ]
  },
  {
   "cell_type": "markdown",
   "id": "e96448f9",
   "metadata": {},
   "source": [
    "#### Create Table Function\n",
    "Defines a function to create a table within the specified database."
   ]
  },
  {
   "cell_type": "code",
   "execution_count": 11,
   "id": "4e4f965e",
   "metadata": {},
   "outputs": [],
   "source": [
    "# Function to create ClickHouse database\n",
    "def create_database_CH():\n",
    "    query = f\"DROP DATABASE IF EXISTS {DATABASE_};\"\n",
    "    client.execute(query)\n",
    "    query = f\"CREATE DATABASE IF NOT EXISTS {DATABASE_};\"\n",
    "    client.execute(query)\n",
    "    query = f'USE {DATABASE_};'\n",
    "    client.execute(query)\n"
   ]
  },
  {
   "cell_type": "markdown",
   "id": "69f41aae",
   "metadata": {},
   "source": [
    "#### Copy Data from MySQL to ClickHouse Function\n",
    "Defines a function to copy data from MySQL table to ClickHouse table."
   ]
  },
  {
   "cell_type": "code",
   "execution_count": 12,
   "id": "8483e779",
   "metadata": {},
   "outputs": [],
   "source": [
    "# Function to copy table from MySQL to ClickHouse\n",
    "def copy_table_from_mysql_to_clickhouse():\n",
    "    # first we create the table in ClickHouse and get a View from the MySQL table\n",
    "    # TABLE_ is the View name in ClickHouse\n",
    "    query = f\"CREATE TABLE IF NOT EXISTS {TABLE_} (\\\n",
    "        id UInt32,\\\n",
    "        name String,\\\n",
    "        address String,\\\n",
    "        email String,\\\n",
    "        phone_number String,\\\n",
    "        job String,\\\n",
    "        company String,\\\n",
    "        city String,\\\n",
    "        country String,\\\n",
    "        date String\\\n",
    "    ) ENGINE = MySQL('{MySQL_ip}:3306', '{DATABASE_}', '{TABLE_}', 'root', '1381');\"\n",
    "    client.execute(query)\n",
    "    # NEWTABLE_ is the new table name in ClickHouse\n",
    "    query = f\"CREATE TABLE IF NOT EXISTS {DATABASE_}.{NEWTABLE_} (\\\n",
    "    id UInt32,\\\n",
    "    name String,\\\n",
    "    address String,\\\n",
    "    email String,\\\n",
    "    phone_number String,\\\n",
    "    job String,\\\n",
    "    company String,\\\n",
    "    city String,\\\n",
    "    country String,\\\n",
    "    date String\\\n",
    "    ) ENGINE = MergeTree() ORDER BY id;\"\n",
    "    client.execute(query)\n",
    "    \n",
    "    query = f\"INSERT INTO {DATABASE_}.{NEWTABLE_} SELECT * FROM {DATABASE_}.{TABLE_};\"\n",
    "    client.execute(query)\n",
    "\n"
   ]
  },
  {
   "cell_type": "markdown",
   "id": "64ff421e",
   "metadata": {},
   "source": [
    "#### Execute Database Operations\n",
    "Calls the defined functions to create a database ClickHouse."
   ]
  },
  {
   "cell_type": "code",
   "execution_count": 13,
   "id": "6fc0ed81",
   "metadata": {},
   "outputs": [],
   "source": [
    "create_database_CH()"
   ]
  },
  {
   "cell_type": "markdown",
   "id": "db5ebae5",
   "metadata": {},
   "source": [
    "### Comparison\n",
    "This part demonstrates how to compare the data of a MySQL and a ClickHouse view."
   ]
  },
  {
   "cell_type": "markdown",
   "id": "0815f0e3",
   "metadata": {},
   "source": [
    "First we will create two Query, one for MySQL and one for ClickHouse \n",
    "##### Note: \n",
    "- You can change the query as per your requirement.\n",
    "\n",
    "Then we will create a function to compare the data of the MySQL and ClickHouse view.\n",
    "\n",
    "Finally, we will call the function to compare the data of the MySQL and ClickHouse view.\n"
   ]
  },
  {
   "cell_type": "code",
   "execution_count": 18,
   "id": "2dcd04a3",
   "metadata": {},
   "outputs": [],
   "source": [
    "CH_query = f\"SELECT count(DISTINCT name) FROM {DATABASE_}.{NEWTABLE_};\"\n",
    "CH_View_query = f\"SELECT count(DISTINCT name) FROM {DATABASE_}.{TABLE_};\"\n",
    "MS_query = f\"SELECT count(DISTINCT name) FROM {DATABASE_}.{TABLE_};\""
   ]
  },
  {
   "cell_type": "markdown",
   "id": "424c40fc",
   "metadata": {},
   "source": [
    "##### Note:\n",
    "- `MS_query` is the query to use for MYSQL.\n",
    "- `CH_query` is the query to use for ClickHouse.\n",
    "- `CH_View_query` is the query to use for ClickHouse View."
   ]
  },
  {
   "cell_type": "markdown",
   "id": "35d3d07a",
   "metadata": {},
   "source": [
    "#### Run MySQL Query"
   ]
  },
  {
   "cell_type": "code",
   "execution_count": 22,
   "id": "daf8ca8d",
   "metadata": {},
   "outputs": [
    {
     "name": "stdout",
     "output_type": "stream",
     "text": [
      "Time taken for the query: 50929.23307418823 milliseconds\n"
     ]
    }
   ],
   "source": [
    "start_time = time.time()\n",
    "cursor.execute(MS_query)\n",
    "cursor.fetchall()\n",
    "end_time = time.time()\n",
    "query_time_ms = (end_time - start_time) * 1000\n",
    "print(\"Time taken for the query:\", query_time_ms, \"milliseconds\")"
   ]
  },
  {
   "cell_type": "markdown",
   "id": "f11190cb",
   "metadata": {},
   "source": [
    "#### Run ClickHouse Query"
   ]
  },
  {
   "cell_type": "code",
   "execution_count": 20,
   "id": "43c7babf",
   "metadata": {},
   "outputs": [
    {
     "name": "stdout",
     "output_type": "stream",
     "text": [
      "Time taken to copy table from MySQL to ClickHouse: 24543.262720108032 ms\n",
      "Execution time: 1043.053955078125 ms\n"
     ]
    }
   ],
   "source": [
    "start_time = time.time()\n",
    "copy_table_from_mysql_to_clickhouse()\n",
    "end_time = time.time()\n",
    "query_time_ms = (end_time - start_time) * 1000\n",
    "print( f\"Time taken to copy table from MySQL to ClickHouse: {query_time_ms} ms\")\n",
    "\n",
    "start_time = time.time() * 1000  # Start time in milliseconds\n",
    "result = client.execute(CH_query)\n",
    "end_time = time.time() * 1000  # End time in milliseconds\n",
    "\n",
    "execution_time_ms = end_time - start_time\n",
    "print(\"Execution time:\", execution_time_ms, \"ms\")"
   ]
  },
  {
   "cell_type": "markdown",
   "id": "d4852430",
   "metadata": {},
   "source": [
    "#### Run View ClickHouse Query"
   ]
  },
  {
   "cell_type": "code",
   "execution_count": 21,
   "id": "cc1a4bc2",
   "metadata": {},
   "outputs": [
    {
     "name": "stdout",
     "output_type": "stream",
     "text": [
      "Execution time: 4884.31591796875 ms\n"
     ]
    }
   ],
   "source": [
    "start_time = time.time() * 1000  # Start time in milliseconds\n",
    "result = client.execute(CH_View_query)\n",
    "end_time = time.time() * 1000  # End time in milliseconds\n",
    "\n",
    "execution_time_ms = end_time - start_time\n",
    "print(\"Execution time:\", execution_time_ms, \"ms\")"
   ]
  },
  {
   "cell_type": "code",
   "execution_count": null,
   "id": "1451e8be-c883-451f-a50c-8c97b1c811bc",
   "metadata": {},
   "outputs": [],
   "source": []
  },
  {
   "cell_type": "code",
   "execution_count": null,
   "id": "b82be256-d619-4319-9aa0-35bdc054c077",
   "metadata": {},
   "outputs": [],
   "source": []
  }
 ],
 "metadata": {
  "kernelspec": {
   "display_name": "Python 3 (ipykernel)",
   "language": "python",
   "name": "python3"
  },
  "language_info": {
   "codemirror_mode": {
    "name": "ipython",
    "version": 3
   },
   "file_extension": ".py",
   "mimetype": "text/x-python",
   "name": "python",
   "nbconvert_exporter": "python",
   "pygments_lexer": "ipython3",
   "version": "3.12.2"
  }
 },
 "nbformat": 4,
 "nbformat_minor": 5
}
